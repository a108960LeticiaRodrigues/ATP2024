{
 "cells": [
  {
   "cell_type": "markdown",
   "metadata": {},
   "source": [
    "### TPC2: Adivinha o número\n",
    "- Crie um programa em Python para jogar o jogo \"Adivinha o número\":\n",
    "    - O jogo pode ter 2 modalidades: computador pensa num número (entre 0 e 100), utilizador tenta adivinhar; ou, o utilizador pensa num número (entre 0 e 100) e o computador tenta adivinhar;\n",
    "    - Quem tenta adivinhar responde com uma das afirmações: \"Acertou\", \"O número que pensei é Maior\" ou \"O número que pensei é Menor\";\n",
    "    - Uma vez descoberto o número o programa deverá terminar imprimindo o número de tentativas que quem adivinhou usou para chegar ao resultado."
   ]
  },
  {
   "cell_type": "markdown",
   "metadata": {},
   "source": [
    "## 1ºModalidade: o Computador pensa num número (entre 0 e 100), utilizador tenta adivinhar."
   ]
  },
  {
   "cell_type": "code",
   "execution_count": 9,
   "metadata": {},
   "outputs": [
    {
     "name": "stdout",
     "output_type": "stream",
     "text": [
      "Acertou, o número que pensei era o 31 e fez 8 tentativas\n"
     ]
    }
   ],
   "source": [
    "from random import randint\n",
    "\n",
    "tentativa = int(input(\"Bem vindo ao jogo Adivinha o número, introduza aqui o seu palpite entre 0 e 100:\"))\n",
    "if tentativa < 0 or tentativa > 100:\n",
    "    print(\"Resposta inválida. Insira um número entre 0 e 100:\")\n",
    "\n",
    "i = 1\n",
    "x = randint(0,100)\n",
    "\n",
    "while x != tentativa:\n",
    "    if x > tentativa:\n",
    "        i = i + 1\n",
    "        tentativa = int(input(\"O número que pensei é maior, tente novamente:\"))\n",
    "    elif x < tentativa:\n",
    "        i = i + 1\n",
    "        tentativa = int(input(\"O número que pensei é menor, tente novamente:\"))\n",
    "\n",
    "print(f\"Acertou, o número que pensei era o {x} e fez {i} tentativas\")"
   ]
  },
  {
   "cell_type": "markdown",
   "metadata": {},
   "source": [
    "## 2ºModalidade: O utilizador pensa num número (entre 0 e 100) e o computador tenta adivinhar."
   ]
  },
  {
   "cell_type": "markdown",
   "metadata": {},
   "source": [
    "* 1º tentativa: RANDOM (não consegue limitar os palpites a dois valores em que ambos são diferentes de 0 e 100)"
   ]
  },
  {
   "cell_type": "code",
   "execution_count": null,
   "metadata": {},
   "outputs": [],
   "source": [
    "from random import randint\n",
    "\n",
    "print(\"Bem vindo ao jogo Adivinha o número, pense em um número entre 0 e 100 e eu vou tentar adivinhar\")\n",
    "\n",
    "x = randint (1,100)\n",
    "i = 1\n",
    "\n",
    "tentativa = input(f\"O número no qual pensou é o {x}? (responda com acertou, maior ou menor)\")\n",
    "\n",
    "while tentativa != \"acertou\":\n",
    "    if tentativa == \"menor\":\n",
    "        i = i + 1\n",
    "        x = randint (1,x-1)\n",
    "        tentativa = input(f\"O número no qual pensou é o {x}? (responda com acertou, maior ou menor)\")\n",
    "    if tentativa == \"maior\":\n",
    "        i = i + 1\n",
    "        x = randint (x+1,100)\n",
    "        tentativa = input(f\"O número no qual pensou é o {x}? (responda com acertou, maior ou menor)\")\n",
    "\n",
    "print(f\"Acertei, o número no qual pensou é {x} e adivinhei com {i} tentativas\")\n",
    "\n"
   ]
  },
  {
   "cell_type": "markdown",
   "metadata": {},
   "source": [
    "* 2º tentativa: de um a um, logo é um bocado contraprodutivo."
   ]
  },
  {
   "cell_type": "code",
   "execution_count": 21,
   "metadata": {},
   "outputs": [
    {
     "name": "stdout",
     "output_type": "stream",
     "text": [
      "Bem vindo ao jogo Adivinha o número, pense em um número entre 0 e 100 e eu vou tentar adivinhar\n",
      "Acertei, o número no qual pensou é 50.0 e adivinhei com 3 tentativas\n"
     ]
    }
   ],
   "source": [
    "from random import randint\n",
    "\n",
    "print(\"Bem vindo ao jogo Adivinha o número, pense em um número entre 0 e 100 e eu vou tentar adivinhar\")\n",
    "\n",
    "i = 1\n",
    "baixo = 0\n",
    "alto = 100\n",
    "x = (alto + baixo)/2\n",
    "\n",
    "tentativa = input(f\"O número no qual pensou é o {x}? (responda com acertou, maior ou menor)\") \n",
    "\n",
    "while tentativa != \"acertou\":\n",
    "    if tentativa == \"menor\":\n",
    "        i = i + 1\n",
    "        alto = alto - 2\n",
    "        x = (alto + baixo)/2\n",
    "        tentativa = input(f\"O número no qual pensou é o {x}? (responda com acertou, maior ou menor)\")\n",
    "    if tentativa == \"maior\":\n",
    "        i = i + 1\n",
    "        alto = alto + 2\n",
    "        x = (alto + baixo)/2\n",
    "        tentativa = input(f\"O número no qual pensou é o {x}? (responda com acertou, maior ou menor)\")\n",
    "\n",
    "print(f\"Acertei, o número no qual pensou é {x} e adivinhei com {i} tentativas\")"
   ]
  },
  {
   "cell_type": "markdown",
   "metadata": {},
   "source": [
    "* 3º tentativa: RESULTADO FINAL (o que realmente deu certo)"
   ]
  },
  {
   "cell_type": "code",
   "execution_count": 2,
   "metadata": {},
   "outputs": [
    {
     "name": "stdout",
     "output_type": "stream",
     "text": [
      "Bem vindo ao jogo Adivinha o número, pense em um número entre 0 e 100 e eu vou tentar adivinhar\n",
      "Acertei, o número no qual pensou é 65 e adivinhei com 5 tentativas\n"
     ]
    }
   ],
   "source": [
    "from random import randint\n",
    "\n",
    "print(\"Bem vindo ao jogo Adivinha o número, pense em um número entre 0 e 100 e eu vou tentar adivinhar\")\n",
    "\n",
    "i = 1\n",
    "baixo = 0\n",
    "alto = 100\n",
    "x = (alto + baixo)//2\n",
    "\n",
    "tentativa = input(f\"O número no qual pensou é o {x}? (responda com acertou, maior ou menor)\") \n",
    "if tentativa != \"acertou\" and tentativa != \"maior\" and tentativa != \"menor\":\n",
    "    tentativa = print(\"Resposta inválida. Responda com acertou, menor ou maior:\")\n",
    "\n",
    "\n",
    "while tentativa != \"acertou\":\n",
    "    if tentativa == \"menor\":\n",
    "        i = i + 1\n",
    "        alto = x - 1       \n",
    "        x = (alto + baixo)//2                             \n",
    "        tentativa = input(f\"O número no qual pensou é o {x}? (responda com acertou, maior ou menor)\")\n",
    "        if tentativa != \"acertou\" and tentativa != \"maior\" and tentativa != \"menor\":\n",
    "            tentativa = print(\"Resposta inválida. Responda com acertou, menor ou maior:\")\n",
    "    if tentativa == \"maior\":\n",
    "        i = i + 1\n",
    "        baixo = x + 1\n",
    "        x = (alto + baixo)//2 \n",
    "        tentativa = input(f\"O número no qual pensou é o {x}? (responda com acertou, maior ou menor)\")\n",
    "        if tentativa != \"acertou\" and tentativa != \"maior\" and tentativa != \"menor\":\n",
    "            tentativa = print(\"Resposta inválida. Responda com acertou, menor ou maior:\")\n",
    "\n",
    "print(f\"Acertei, o número no qual pensou é {x} e adivinhei com {i} tentativas\")\n"
   ]
  }
 ],
 "metadata": {
  "kernelspec": {
   "display_name": "Python 3",
   "language": "python",
   "name": "python3"
  },
  "language_info": {
   "codemirror_mode": {
    "name": "ipython",
    "version": 3
   },
   "file_extension": ".py",
   "mimetype": "text/x-python",
   "name": "python",
   "nbconvert_exporter": "python",
   "pygments_lexer": "ipython3",
   "version": "3.12.6"
  }
 },
 "nbformat": 4,
 "nbformat_minor": 2
}
