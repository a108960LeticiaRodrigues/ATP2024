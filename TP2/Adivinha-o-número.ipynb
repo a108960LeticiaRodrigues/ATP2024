{
 "cells": [
  {
   "cell_type": "markdown",
   "metadata": {},
   "source": [
    "### TPC2: Adivinha o número\n",
    "- Crie um programa em Python para jogar o jogo \"Adivinha o número\":\n",
    "    - O jogo pode ter 2 modalidades: computador pensa num número (entre 0 e 100), utilizador tenta adivinhar; ou, o utilizador pensa num número (entre 0 e 100) e o computador tenta adivinhar;\n",
    "    - Quem tenta adivinhar responde com uma das afirmações: \"Acertou\", \"O número que pensei é Maior\" ou \"O número que pensei é Menor\";\n",
    "    - Uma vez descoberto o número o programa deverá terminar imprimindo o número de tentativas que quem adivinhou usou para chegar ao resultado."
   ]
  },
  {
   "cell_type": "code",
   "execution_count": 23,
   "metadata": {},
   "outputs": [
    {
     "name": "stdout",
     "output_type": "stream",
     "text": [
      "Acertei, o número no qual pensou é 65 e adivinhei com 5 tentativas\n"
     ]
    }
   ],
   "source": [
    "from random import randint\n",
    "\n",
    "Bem_vindo = input(\"Bem vindo ao jogo Adivinha o número! (clique enter)\")\n",
    "Opçoes = input(\"Este jogo consiste em 2 modalidades. (clique enter)\")\n",
    "modalidade1 = input(\"Na modalidade 1, o computador pensa num número (entre 0 e 100) e o utilizador tenta adivinhar. (clique enter) \")\n",
    "modalidade2 = input(\"Na modalidade 2, o utilizador pensa num número (entre 0 e 100) e o computador tenta adivinhar. (clique enter) \")\n",
    "modalidade = int(input(\"Qual prefere? (responda com 1 ou 2) \"))\n",
    "if modalidade != 1 or modalidade != 2:\n",
    "     modalidade = int(input(\"Resposta invalida, responda com 1 ou 2\"))\n",
    "\n",
    "\n",
    "if modalidade == 1:\n",
    "    tentativa = int(input(\"Bem vindo á modalidade 1, introduza aqui o seu palpite entre 0 e 100:\"))\n",
    "    if tentativa < 0 or tentativa > 100:\n",
    "        tentativa = int(input(\"Resposta inválida. Insira um número entre 0 e 100:\"))\n",
    "\n",
    "    i = 1\n",
    "    x = randint(0,100)\n",
    "\n",
    "    while x != tentativa:\n",
    "        if x > tentativa:\n",
    "            i = i + 1\n",
    "            tentativa = int(input(\"O número que pensei é maior, tente novamente:\"))\n",
    "            if tentativa < 0 or tentativa > 100:\n",
    "                tentativa = int(input(\"Resposta inválida. Insira um número entre 0 e 100:\"))\n",
    "\n",
    "        elif x < tentativa:\n",
    "            i = i + 1\n",
    "            tentativa = int(input(\"O número que pensei é menor, tente novamente:\"))\n",
    "            if tentativa < 0 or tentativa > 100:\n",
    "                tentativa = int(input(\"Resposta inválida. Insira um número entre 0 e 100:\"))\n",
    "\n",
    "\n",
    "    print(f\"Acertou, o número que pensei era o {x} e fez {i} tentativas\")\n",
    "\n",
    "\n",
    "if modalidade == 2:\n",
    "    i = 1\n",
    "    baixo = 0\n",
    "    alto = 100\n",
    "    x = (alto + baixo)//2\n",
    "\n",
    "    Bem_vindo2 = input(\"Bem vindo á modalidade 2! (clique enter)\")\n",
    "    tentativa = input(f\"O número no qual pensou é o {x}? (responda com acertou, maior ou menor)\") \n",
    "    if tentativa != \"acertou\" and tentativa != \"maior\" and tentativa != \"menor\":\n",
    "            tentativa = input(\"Resposta inválida. Responda com acertou, menor ou maior:\")\n",
    "\n",
    "\n",
    "    while tentativa != \"acertou\":\n",
    "        if tentativa == \"menor\":\n",
    "            i = i + 1\n",
    "            alto = x - 1       \n",
    "            x = (alto + baixo)//2                             \n",
    "            tentativa = input(f\"O número no qual pensou é o {x}? (responda com acertou, maior ou menor)\")\n",
    "            if tentativa != \"acertou\" and tentativa != \"maior\" and tentativa != \"menor\":\n",
    "                    tentativa = input(\"Resposta inválida. Responda com acertou, menor ou maior:\")\n",
    "                    \n",
    "        if tentativa == \"maior\":\n",
    "            i = i + 1\n",
    "            baixo = x + 1\n",
    "            x = (alto + baixo)//2 \n",
    "            tentativa = input(f\"O número no qual pensou é o {x}? (responda com acertou, maior ou menor)\")\n",
    "            if tentativa != \"acertou\" and tentativa != \"maior\" and tentativa != \"menor\":\n",
    "                tentativa = input(\"Resposta inválida. Responda com acertou, menor ou maior:\")\n",
    "    print(f\"Acertei, o número no qual pensou é {x} e adivinhei com {i} tentativas\")\n",
    "\n",
    "\n"
   ]
  },
  {
   "cell_type": "markdown",
   "metadata": {},
   "source": [
    "# As modalidades isoladas"
   ]
  },
  {
   "cell_type": "markdown",
   "metadata": {},
   "source": [
    "#### 1ºModalidade: o Computador pensa num número (entre 0 e 100), utilizador tenta adivinhar."
   ]
  },
  {
   "cell_type": "code",
   "execution_count": 24,
   "metadata": {},
   "outputs": [
    {
     "name": "stdout",
     "output_type": "stream",
     "text": [
      "Acertou, o número que pensei era o 78 e fez 6 tentativas\n"
     ]
    }
   ],
   "source": [
    "from random import randint\n",
    "\n",
    "tentativa = int(input(\"Bem vindo ao jogo Adivinha o número, introduza aqui o seu palpite entre 0 e 100:\"))\n",
    "if tentativa < 0 or tentativa > 100:\n",
    "    tentativa = int(input(\"Resposta inválida. Insira um número entre 0 e 100:\"))\n",
    "\n",
    "i = 1\n",
    "x = randint(0,100)\n",
    "\n",
    "while x != tentativa:\n",
    "    if x > tentativa:\n",
    "        i = i + 1\n",
    "        tentativa = int(input(\"O número que pensei é maior, tente novamente:\"))\n",
    "        if tentativa < 0 or tentativa > 100:\n",
    "            tentativa = int(input(\"Resposta inválida. Insira um número entre 0 e 100:\"))\n",
    "    elif x < tentativa:\n",
    "        i = i + 1\n",
    "        tentativa = int(input(\"O número que pensei é menor, tente novamente:\"))\n",
    "        if tentativa < 0 or tentativa > 100:\n",
    "            tentativa = int(input(\"Resposta inválida. Insira um número entre 0 e 100:\"))\n",
    "\n",
    "print(f\"Acertou, o número que pensei era o {x} e fez {i} tentativas\")"
   ]
  },
  {
   "cell_type": "markdown",
   "metadata": {},
   "source": [
    "#### 2ºModalidade: O utilizador pensa num número (entre 0 e 100) e o computador tenta adivinhar.\n"
   ]
  },
  {
   "cell_type": "code",
   "execution_count": 27,
   "metadata": {},
   "outputs": [
    {
     "name": "stdout",
     "output_type": "stream",
     "text": [
      "Acertei, o número no qual pensou é 82 e adivinhei com 6 tentativas\n"
     ]
    }
   ],
   "source": [
    "from random import randint\n",
    "\n",
    "Bem_vindo = input(\"Bem vindo ao jogo Adivinha o número, pense em um número entre 0 e 100 e eu vou tentar adivinhar! (clique enter)\")\n",
    "\n",
    "i = 1\n",
    "baixo = 0\n",
    "alto = 100\n",
    "x = (alto + baixo)//2\n",
    "\n",
    "tentativa = input(f\"O número no qual pensou é o {x}? (responda com acertou, maior ou menor)\") \n",
    "if tentativa != \"acertou\" and tentativa != \"maior\" and tentativa != \"menor\":\n",
    "    tentativa = input(\"Resposta inválida. Responda com acertou, menor ou maior:\")\n",
    "\n",
    "\n",
    "while tentativa != \"acertou\":\n",
    "    if tentativa == \"menor\":\n",
    "        i = i + 1\n",
    "        alto = x - 1       \n",
    "        x = (alto + baixo)//2                             \n",
    "        tentativa = input(f\"O número no qual pensou é o {x}? (responda com acertou, maior ou menor)\")\n",
    "        if tentativa != \"acertou\" and tentativa != \"maior\" and tentativa != \"menor\":\n",
    "            tentativa = input(\"Resposta inválida. Responda com acertou, menor ou maior:\")\n",
    "\n",
    "    if tentativa == \"maior\":\n",
    "        i = i + 1\n",
    "        baixo = x + 1\n",
    "        x = (alto + baixo)//2 \n",
    "        tentativa = input(f\"O número no qual pensou é o {x}? (responda com acertou, maior ou menor)\")\n",
    "        if tentativa != \"acertou\" and tentativa != \"maior\" and tentativa != \"menor\":\n",
    "            tentativa = input(\"Resposta inválida. Responda com acertou, menor ou maior:\")\n",
    "\n",
    "print(f\"Acertei, o número no qual pensou é {x} e adivinhei com {i} tentativas\")\n"
   ]
  }
 ],
 "metadata": {
  "kernelspec": {
   "display_name": "Python 3",
   "language": "python",
   "name": "python3"
  },
  "language_info": {
   "codemirror_mode": {
    "name": "ipython",
    "version": 3
   },
   "file_extension": ".py",
   "mimetype": "text/x-python",
   "name": "python",
   "nbconvert_exporter": "python",
   "pygments_lexer": "ipython3",
   "version": "3.12.6"
  }
 },
 "nbformat": 4,
 "nbformat_minor": 2
}
